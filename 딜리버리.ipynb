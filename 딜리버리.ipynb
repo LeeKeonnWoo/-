{
  "cells": [
    {
      "cell_type": "markdown",
      "metadata": {
        "id": "view-in-github",
        "colab_type": "text"
      },
      "source": [
        "<a href=\"https://colab.research.google.com/github/LeeKeonnWoo/-/blob/main/%EB%94%9C%EB%A6%AC%EB%B2%84%EB%A6%AC.ipynb\" target=\"_parent\"><img src=\"https://colab.research.google.com/assets/colab-badge.svg\" alt=\"Open In Colab\"/></a>"
      ]
    },
    {
      "cell_type": "code",
      "source": [
        "#delivery_request.py\n",
        "\n",
        "from rider_matching import RiderMatchingService\n",
        "\n",
        "class DeliveryRequestService:\n",
        "    def __init__(self, matching_service: RiderMatchingService):\n",
        "        self.matching_service = matching_service\n",
        "\n",
        "    def request_delivery(self, user_id: str, order_id: str):\n",
        "        \"\"\"\n",
        "        사용자로부터 배달 요청을 받아 매칭 서비스에 전달\n",
        "        \"\"\"\n",
        "        print(f\"[App] 사용자({user_id})가 주문({order_id})을 요청했습니다.\")\n",
        "        result = self.matching_service.find_rider(order_id)\n",
        "        print(f\"[App] 매칭 결과: {result}\")\n",
        "        return result"
      ],
      "metadata": {
        "id": "IruVI6fGQA41"
      },
      "execution_count": null,
      "outputs": []
    },
    {
      "cell_type": "code",
      "source": [
        "#rider_matching.py\n",
        "\n",
        "from notification import NotificationService\n",
        "\n",
        "class RiderMatchingService:\n",
        "    def __init__(self, notification_service: NotificationService):\n",
        "        self.notification_service = notification_service\n",
        "\n",
        "    def find_rider(self, order_id: str) -> str:\n",
        "        \"\"\"\n",
        "        매칭 서버에서 배달원 검색 및 알림 전송\n",
        "        \"\"\"\n",
        "        rider_id = self._select_rider(order_id)\n",
        "        self.notification_service.send_notification(rider_id, order_id)\n",
        "        # 시뮬레이션: 배달원이 수락했다고 가정\n",
        "        response = \"accepted\"\n",
        "        print(f\"[Server] 배달원({rider_id})이 주문({order_id})을 {response}했습니다.\")\n",
        "        return rider_id if response == \"accepted\" else None\n",
        "\n",
        "    def _select_rider(self, order_id: str) -> str:\n",
        "        # 간단한 매칭 로직 예시\n",
        "        print(f\"[Server] 주문({order_id})에 적합한 배달원을 조회합니다.\")\n",
        "        return \"rider_123\""
      ],
      "metadata": {
        "id": "RH-Wsx9MQJMm"
      },
      "execution_count": null,
      "outputs": []
    },
    {
      "cell_type": "code",
      "source": [
        "#main.py\n",
        "\n",
        "from delivery_request import DeliveryRequestService\n",
        "from rider_matching import RiderMatchingService\n",
        "from notification import NotificationService\n",
        "\n",
        "\n",
        "def main():\n",
        "    user_id = \"user_456\"\n",
        "    order_id = \"order_789\"\n",
        "\n",
        "    notification_service = NotificationService()\n",
        "    matching_service = RiderMatchingService(notification_service)\n",
        "    request_service = DeliveryRequestService(matching_service)\n",
        "\n",
        "    matched_rider = request_service.request_delivery(user_id, order_id)\n",
        "    if matched_rider:\n",
        "        print(f\"[App] 사용자에게 배달원({matched_rider}) 정보를 전달합니다.\")\n",
        "    else:\n",
        "        print(\"[App] 매칭에 실패했습니다.\")\n",
        "\n",
        "\n",
        "if __name__ == \"__main__\":\n",
        "    main()"
      ],
      "metadata": {
        "id": "pIczjRINQW1v"
      },
      "execution_count": null,
      "outputs": []
    },
    {
      "cell_type": "code",
      "source": [
        "#알림.py\n",
        "class NotificationService:\n",
        "    def send_notification(self, rider_id: str, order_id: str):\n",
        "        \"\"\"\n",
        "        배달원 앱으로 배달 요청 알림 전송\n",
        "        \"\"\"\n",
        "        print(f\"[Notification] 배달원 앱({rider_id})에 주문({order_id}) 알림을 보냈습니다.\")"
      ],
      "metadata": {
        "id": "df-jPS4AQbxj"
      },
      "execution_count": null,
      "outputs": []
    }
  ],
  "metadata": {
    "colab": {
      "name": "Colab 시작하기",
      "provenance": [],
      "include_colab_link": true
    },
    "kernelspec": {
      "display_name": "Python 3",
      "name": "python3"
    }
  },
  "nbformat": 4,
  "nbformat_minor": 0
}